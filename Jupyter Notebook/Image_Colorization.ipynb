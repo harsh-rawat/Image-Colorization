{
  "nbformat": 4,
  "nbformat_minor": 0,
  "metadata": {
    "colab": {
      "name": "Image_Colorization_animation.ipynb",
      "provenance": [],
      "collapsed_sections": []
    },
    "kernelspec": {
      "name": "python3",
      "display_name": "Python 3"
    },
    "language_info": {
      "codemirror_mode": {
        "name": "ipython",
        "version": 3
      },
      "file_extension": ".py",
      "mimetype": "text/x-python",
      "name": "python",
      "nbconvert_exporter": "python",
      "pygments_lexer": "ipython3",
      "version": "3.7.3"
    },
    "accelerator": "GPU"
  },
  "cells": [
    {
      "cell_type": "markdown",
      "metadata": {
        "colab_type": "text",
        "id": "Y-fGer7hRPbG"
      },
      "source": [
        "Image Colorization is a classic problem of Computer Vision which deals with adding color to a Grayscale image. In this project we will explore a number of approaches to the problem including implementing a GAN."
      ]
    },
    {
      "cell_type": "code",
      "metadata": {
        "colab_type": "code",
        "id": "Zq_gSYeMRPbH",
        "colab": {}
      },
      "source": [
        "#Import block\n",
        "\n",
        "import torch\n",
        "import torch.nn as nn\n",
        "from torch.utils.data import Dataset\n",
        "import torch.optim as optim\n",
        "from torchvision.utils import save_image\n",
        "from PIL import Image\n",
        "from skimage import color\n",
        "import numpy as np\n",
        "\n",
        "%matplotlib inline\n",
        "import matplotlib.pyplot as plt\n",
        "\n",
        "import glob\n",
        "import os\n",
        "import pathlib\n",
        "from random import shuffle\n",
        "import pickle\n",
        "import gc"
      ],
      "execution_count": 0,
      "outputs": []
    },
    {
      "cell_type": "code",
      "metadata": {
        "colab_type": "code",
        "id": "eb7LkjtBRwbW",
        "outputId": "59225111-668a-411e-e9bc-abb123cf8e51",
        "colab": {
          "base_uri": "https://localhost:8080/",
          "height": 121
        }
      },
      "source": [
        "from google.colab import drive\n",
        "drive.mount('/content/drive')"
      ],
      "execution_count": 2,
      "outputs": [
        {
          "output_type": "stream",
          "text": [
            "Go to this URL in a browser: https://accounts.google.com/o/oauth2/auth?client_id=947318989803-6bn6qk8qdgf4n4g3pfee6491hc0brc4i.apps.googleusercontent.com&redirect_uri=urn%3aietf%3awg%3aoauth%3a2.0%3aoob&response_type=code&scope=email%20https%3a%2f%2fwww.googleapis.com%2fauth%2fdocs.test%20https%3a%2f%2fwww.googleapis.com%2fauth%2fdrive%20https%3a%2f%2fwww.googleapis.com%2fauth%2fdrive.photos.readonly%20https%3a%2f%2fwww.googleapis.com%2fauth%2fpeopleapi.readonly\n",
            "\n",
            "Enter your authorization code:\n",
            "··········\n",
            "Mounted at /content/drive\n"
          ],
          "name": "stdout"
        }
      ]
    },
    {
      "cell_type": "code",
      "metadata": {
        "id": "IDvSFr2dHBTb",
        "colab_type": "code",
        "colab": {}
      },
      "source": [
        "if not os.path.isdir('/content/tom_and_jerry'):\n",
        "    !cp -r '/content/drive/My Drive/Machine Learning - Google Colab/Image Colorization/data/tom_and_jerry.tar' /content\n",
        "    !tar -xvf /content/tom_and_jerry.tar\n",
        "    !rm /content/tom_and_jerry.tar"
      ],
      "execution_count": 0,
      "outputs": []
    },
    {
      "cell_type": "code",
      "metadata": {
        "id": "U7HrR-d6A3Aw",
        "colab_type": "code",
        "colab": {}
      },
      "source": [
        "#Total Items : 1596\n",
        "#Train Set : 1276"
      ],
      "execution_count": 0,
      "outputs": []
    },
    {
      "cell_type": "code",
      "metadata": {
        "id": "7TYvO6xRHBTd",
        "colab_type": "code",
        "colab": {}
      },
      "source": [
        "#Global variables\n",
        "dataset = 'tom_and_jerry'\n",
        "folder = 'Unet_200_b5'\n",
        "data_path = '/content/{}'.format(dataset)\n",
        "global_path = '/content/drive/My Drive/Machine Learning - Google Colab/Image Colorization/{}/{}'.format(dataset,folder)\n",
        "image_format = 'jpg'\n",
        "image_size = 256\n",
        "batch_size = 5\n",
        "lamda = 200\n",
        "batches_iter = 256"
      ],
      "execution_count": 0,
      "outputs": []
    },
    {
      "cell_type": "code",
      "metadata": {
        "colab_type": "code",
        "id": "4CI8Xi5fRPbL",
        "colab": {}
      },
      "source": [
        "class CustomDataset(Dataset):\n",
        "    def __init__(self, path, image_size, image_format = 'png'):\n",
        "        \n",
        "        self.root = path\n",
        "        self.image_size = image_size\n",
        "        \n",
        "        path_loc = pathlib.Path(path)\n",
        "        if(not path_loc.exists()):\n",
        "            raise Exception('The path provided is incorrect!')\n",
        "        \n",
        "        searchstring = os.path.join(path,'*.'+image_format)\n",
        "        list_of_images = glob.glob(searchstring)\n",
        "        \n",
        "        self.image_paths = list_of_images\n",
        "    \n",
        "    def __getitem__(self, index):\n",
        "        file_path = self.image_paths[index]\n",
        "        img =  self.load_image(file_path)\n",
        "        img = img.resize((self.image_size, self.image_size))\n",
        "        img_np = np.array(img)\n",
        "        \n",
        "        #Scale the values to range -1 to 1\n",
        "        img_np = (img_np - 127.5)/127.5\n",
        "        \n",
        "        lab_img = color.rgb2lab(img)\n",
        "        \n",
        "        img_np = np.transpose(img_np,(2,0,1))\n",
        "        lab_img = np.transpose(lab_img, (2,0,1))\n",
        "        \n",
        "        img_l = lab_img[0,:,:]/100\n",
        "        size = img_l.shape\n",
        "        \n",
        "        return (torch.FloatTensor(img_l).view(-1,size[0],size[1]), torch.FloatTensor(img_np))\n",
        "        \n",
        "    def __len__(self):\n",
        "        return len(self.image_paths)\n",
        "    \n",
        "    def load_image(self, file_path):\n",
        "        with open(file_path,'rb') as file:\n",
        "            with Image.open(file) as img:\n",
        "                return img.convert('RGB')\n",
        "    \n",
        "    def __str__(self):\n",
        "        return 'Dataset details are - \\nRoot Location : {}\\nImage Size : {}\\nSize : {}\\nTransforms : ToTensor and Normalize (RGB Image from -1 to 1 and Grayscale Image from 0 to 1)'.format(self.root,self.image_size, self.__len__())"
      ],
      "execution_count": 0,
      "outputs": []
    },
    {
      "cell_type": "code",
      "metadata": {
        "colab_type": "code",
        "id": "7j1UNyZKRPbR",
        "colab": {}
      },
      "source": [
        "class Dataloader:\n",
        "    def __init__(self, path, image_size, batch_size = 16, image_format = 'png', validation_required = (False, 0.2, None)):\n",
        "        self.path = path\n",
        "        self.image_size = image_size\n",
        "        self.image_format = image_format\n",
        "        self.validation_req = validation_required\n",
        "        self.batch_size = batch_size\n",
        "    \n",
        "    def get_data_loader(self, load_indexes = False, save_indexes = False):\n",
        "        dataset = CustomDataset(self.path, self.image_size, self.image_format)\n",
        "        print(dataset)\n",
        "        size = len(dataset)\n",
        "        \n",
        "        train_index = list(range(size))\n",
        "        valid_index = []\n",
        "        \n",
        "        if self.validation_req[0]:\n",
        "            file_path = '{}/{}'.format(self.path, self.validation_req[2])\n",
        "            if load_indexes:\n",
        "                with open(file_path, 'rb') as file:\n",
        "                    save_dict = pickle.load(file)\n",
        "                    train_index = save_dict['train']\n",
        "                    valid_index = save_dict['valid']\n",
        "                    print('Index files have been loaded!')\n",
        "            else:\n",
        "                train_size = int(size*(1- self.validation_req[1]))\n",
        "                indexes = list(range(size))\n",
        "                shuffle(indexes)\n",
        "                train_index = indexes[0:train_size]\n",
        "                valid_index = indexes[train_size:]\n",
        "\n",
        "                if save_indexes:\n",
        "                    with open(file_path, 'wb') as file:\n",
        "                        save_dict = {'train' : train_index, 'valid' : valid_index}\n",
        "                        pickle.dump(save_dict, file)\n",
        "                        print('Index files have been saved!')\n",
        "\n",
        "        train_sampler = torch.utils.data.SubsetRandomSampler(train_index)\n",
        "        valid_sampler = torch.utils.data.SubsetRandomSampler(valid_index)\n",
        "        \n",
        "        trainloader = None\n",
        "        validloader = None\n",
        "        if (len(valid_index) == 0):\n",
        "            trainloader = torch.utils.data.DataLoader(dataset, shuffle= True, batch_size= self.batch_size)\n",
        "        else:\n",
        "            trainloader = torch.utils.data.DataLoader(dataset, sampler= train_sampler, batch_size= self.batch_size)\n",
        "            validloader = torch.utils.data.DataLoader(dataset, sampler= valid_sampler, batch_size= 1)\n",
        "        \n",
        "        return (trainloader, validloader)"
      ],
      "execution_count": 0,
      "outputs": []
    },
    {
      "cell_type": "code",
      "metadata": {
        "colab_type": "code",
        "id": "dvOx31zmRPbU",
        "outputId": "dd1a9502-e103-4adb-b01b-419ed7304c40",
        "colab": {
          "base_uri": "https://localhost:8080/",
          "height": 118
        }
      },
      "source": [
        "loader = Dataloader(data_path, image_size, batch_size= batch_size, image_format= image_format, validation_required = (True, 0.2, 'train_validation_split'))\n",
        "trainloader, validloader = loader.get_data_loader(load_indexes= True)"
      ],
      "execution_count": 7,
      "outputs": [
        {
          "output_type": "stream",
          "text": [
            "Dataset details are - \n",
            "Root Location : /content/tom_and_jerry\n",
            "Image Size : 256\n",
            "Size : 1596\n",
            "Transforms : ToTensor and Normalize (RGB Image from -1 to 1 and Grayscale Image from 0 to 1)\n",
            "Index files have been loaded!\n"
          ],
          "name": "stdout"
        }
      ]
    },
    {
      "cell_type": "code",
      "metadata": {
        "colab_type": "code",
        "id": "8voeLviQLt62",
        "outputId": "af6c477f-9bda-4ae0-f688-fa0603850af3",
        "colab": {
          "base_uri": "https://localhost:8080/",
          "height": 254
        }
      },
      "source": [
        "train_imgs = next(iter(trainloader))\n",
        "print(train_imgs[0].shape)\n",
        "print(train_imgs[1].shape)\n",
        "train_img_to_show_bw = train_imgs[0][0][0]\n",
        "train_img_to_show_rgb = train_imgs[1][0]\n",
        "train_img_to_show_rgb = np.transpose((train_img_to_show_rgb+1)/2, (1,2,0))\n",
        "\n",
        "fig, axes = plt.subplots(1,2)\n",
        "axes[0].imshow(train_img_to_show_rgb)\n",
        "axes[1].imshow(train_img_to_show_bw, cmap = 'gray')"
      ],
      "execution_count": 8,
      "outputs": [
        {
          "output_type": "stream",
          "text": [
            "torch.Size([5, 1, 256, 256])\n",
            "torch.Size([5, 3, 256, 256])\n"
          ],
          "name": "stdout"
        },
        {
          "output_type": "execute_result",
          "data": {
            "text/plain": [
              "<matplotlib.image.AxesImage at 0x7f875da07b38>"
            ]
          },
          "metadata": {
            "tags": []
          },
          "execution_count": 8
        },
        {
          "output_type": "display_data",
          "data": {
            "image/png": "[encoded data removed]",
            "text/plain": [
              "<Figure size 432x288 with 2 Axes>"
            ]
          },
          "metadata": {
            "tags": [],
            "needs_background": "light"
          }
        }
      ]
    },
    {
      "cell_type": "code",
      "metadata": {
        "id": "UFhyAt7oRf-G",
        "colab_type": "code",
        "colab": {}
      },
      "source": [
        "class Loss:\n",
        "    def __init__(self):\n",
        "        self.loss = []\n",
        "    \n",
        "    def add(self, x):\n",
        "        self.loss.extend(x)\n",
        "    \n",
        "    def length(self):\n",
        "        return len(self.loss)\n",
        "\n",
        "    def get_loss(self):\n",
        "        return self.loss;"
      ],
      "execution_count": 0,
      "outputs": []
    },
    {
      "cell_type": "code",
      "metadata": {
        "id": "ytj7S2h3Rhx-",
        "colab_type": "code",
        "colab": {}
      },
      "source": [
        "class AverageLoss:\n",
        "    def __init__(self, base_path):\n",
        "        self.gen = Loss()\n",
        "        self.dis = Loss()\n",
        "        self.index = 0\n",
        "        self.base_path = base_path\n",
        "\n",
        "  #Assuming order - gen, dis\n",
        "    def add_loss(self,losses):\n",
        "        self.gen.add(losses[0])\n",
        "        self.dis.add(losses[1])\n",
        "\n",
        "    def plot(self, iteration_factor = 10):\n",
        "        plt.plot(self.gen.get_loss(), label = 'Generator')\n",
        "        plt.plot(self.dis.get_loss(), label = 'Discriminator')\n",
        "        plt.xlabel('Epochs')\n",
        "        plt.ylabel('Loss')\n",
        "        plt.legend()\n",
        "        plt.savefig('{}/loss_curve_{}.png'.format(self.base_path, self.index))\n",
        "        plt.show()\n",
        "    \n",
        "    def save(self, filename):\n",
        "        save_dict = {'gen': self.gen, 'dis': self.dis,'index': self.index, 'base_path': self.base_path}\n",
        "        filepath = '{}/Loss_Checkpoints/{}_{}'.format(self.base_path,filename, self.index)\n",
        "        with open(filepath,'wb') as file:\n",
        "            pickle.dump(save_dict,file)\n",
        "        print('Losses have been saved!')\n",
        "        self.index += 1\n",
        "    \n",
        "    def load(self, filename, index):\n",
        "        filepath = '{}/Loss_Checkpoints/{}_{}'.format(self.base_path,filename, index)\n",
        "        with open(filepath, 'rb') as file:\n",
        "            save_dict = pickle.load(file)\n",
        "            self.gen = save_dict['gen']\n",
        "            self.dis = save_dict['dis']\n",
        "            self.index = save_dict['index']\n",
        "            self.base_path = save_dict['base_path']\n",
        "        print('Checkpoint has been restored!')"
      ],
      "execution_count": 0,
      "outputs": []
    },
    {
      "cell_type": "markdown",
      "metadata": {
        "colab_type": "text",
        "id": "M3F4HDm4ccRh"
      },
      "source": [
        "# Data Loading has been done!\n",
        "# Let's start with defining the Discriminator and Discriminator classes"
      ]
    },
    {
      "cell_type": "code",
      "metadata": {
        "colab_type": "code",
        "id": "93uchTC9RPbn",
        "colab": {}
      },
      "source": [
        "class Discriminator(nn.Module):\n",
        "    def __init__(self, image_size = 256, leaky_relu = 0.2):\n",
        "        \n",
        "        super(Discriminator, self).__init__()\n",
        "        \n",
        "        self.leaky_relu = nn.LeakyReLU(leaky_relu)\n",
        "        self.sigmoid = nn.Sigmoid()\n",
        "        \n",
        "        #Considering input to be 256\n",
        "        self.layer_1 = nn.Conv2d(3, 32, 4, padding= 1, stride= 2)\n",
        "        self.layer_1_bn = nn.BatchNorm2d(32)\n",
        "        #Output size is batch_size X 32 X 128 X 128\n",
        "        \n",
        "        self.layer_2 = nn.Conv2d(32, 64, 4, padding= 1, stride= 2)\n",
        "        self.layer_2_bn = nn.BatchNorm2d(64)\n",
        "        #Output size is batch_size X 64 X 64 X 64\n",
        "        \n",
        "        self.layer_3 = nn.Conv2d(64, 128, 4, padding= 1, stride= 2)\n",
        "        self.layer_3_bn = nn.BatchNorm2d(128)\n",
        "        #Output size is batch_size X 128 X 32 X 32\n",
        "        \n",
        "        self.layer_4 = nn.Conv2d(128, 256, 4, padding= 1, stride= 2)\n",
        "        self.layer_4_bn = nn.BatchNorm2d(256)\n",
        "        #Output size is batch_size X 256 X 16 X 16\n",
        "        \n",
        "        self.layer_5 = nn.Conv2d(256, 512, 4, padding= 1, stride= 2)\n",
        "        self.layer_5_bn = nn.BatchNorm2d(512)\n",
        "        #Output size is batch_size X 512 X 8 X 8\n",
        "        \n",
        "        self.layer_6 = nn.Conv2d(512,1, int(image_size/32), padding= 0, stride= 1)\n",
        "        \n",
        "        self._initialize_weights()\n",
        "    \n",
        "    def forward(self, x):\n",
        "        #Considering x to be of shape (batch_size X 3 X image_size X image_size)\n",
        "        x = self.leaky_relu(self.layer_1_bn(self.layer_1(x)))\n",
        "        \n",
        "        x = self.leaky_relu(self.layer_2_bn(self.layer_2(x)))\n",
        "        \n",
        "        x = self.leaky_relu(self.layer_3_bn(self.layer_3(x)))\n",
        "        \n",
        "        x = self.leaky_relu(self.layer_4_bn(self.layer_4(x)))\n",
        "        \n",
        "        x = self.leaky_relu(self.layer_5_bn(self.layer_5(x)))\n",
        "        \n",
        "        x = self.sigmoid(self.layer_6(x))\n",
        "        \n",
        "        return x\n",
        "    \n",
        "    def _initialize_weights(self):\n",
        "        for m in self.modules():\n",
        "            if isinstance(m, nn.Conv2d) or isinstance(m, nn.BatchNorm2d):\n",
        "                nn.init.normal_(m.weight.data, std= 0.02)\n",
        "                nn.init.constant_(m.bias.data, 0)\n",
        "                "
      ],
      "execution_count": 0,
      "outputs": []
    },
    {
      "cell_type": "code",
      "metadata": {
        "colab_type": "code",
        "id": "Epd0fdgKRPbt",
        "colab": {}
      },
      "source": [
        "class Generator_Unet(nn.Module):\n",
        "    def __init__(self, image_size = 224):\n",
        "        super(Generator_Unet, self).__init__()\n",
        "        \n",
        "        self.tanh = nn.Tanh()\n",
        "        self.relu = nn.ReLU()\n",
        "        \n",
        "        #Input is of shape(1 X 1 X image_size X image_size)\n",
        "        self.layer_1 = nn.Conv2d(1,64, 4, padding= 1, stride= 2)\n",
        "        self.layer_1_bn = nn.BatchNorm2d(64)\n",
        "        #Output is of shape (1 X 64 X 128 X 128)\n",
        "        \n",
        "        self.layer_2 = nn.Conv2d(64,128, 4, padding= 1, stride= 2)\n",
        "        self.layer_2_bn = nn.BatchNorm2d(128)\n",
        "        #Output is of shape (1 X 64 X 64 X 64)\n",
        "        \n",
        "        self.layer_3 = nn.Conv2d(128,256, 4, padding= 1, stride= 2)\n",
        "        self.layer_3_bn = nn.BatchNorm2d(256)\n",
        "        #Output is of shape (1 X 64 X 32 X 32)\n",
        "        \n",
        "        self.layer_4 = nn.Conv2d(256,512, 4, padding= 1, stride= 2)\n",
        "        self.layer_4_bn = nn.BatchNorm2d(512)\n",
        "        #Output is of shape (1 X 64 X 16 X 16)\n",
        "        \n",
        "        self.layer_5 = nn.Conv2d(512,512, 4, padding= 1, stride= 2)\n",
        "        self.layer_5_bn = nn.BatchNorm2d(512)\n",
        "        #Output is of shape (1 X 64 X 8 X 8)\n",
        "        \n",
        "        self.layer_6 = nn.ConvTranspose2d(512, 512, 4, padding= 1, stride= 2)\n",
        "        self.layer_6_bn = nn.BatchNorm2d(512)\n",
        "        #Ouput shape 16 X 16\n",
        "        \n",
        "        self.layer_7 = nn.ConvTranspose2d(512, 256, 4, padding= 1, stride= 2)\n",
        "        self.layer_7_bn = nn.BatchNorm2d(256)\n",
        "        #Ouput shape 32 X 32\n",
        "        \n",
        "        self.layer_8 = nn.ConvTranspose2d(256, 128, 4, padding= 1, stride= 2)\n",
        "        self.layer_8_bn = nn.BatchNorm2d(128)\n",
        "        #Output shape 64 X 64\n",
        "        \n",
        "        self.layer_9 = nn.ConvTranspose2d(128, 64, 4, padding= 1, stride= 2)\n",
        "        self.layer_9_bn = nn.BatchNorm2d(64)\n",
        "        #Ouput shape 128 X 128\n",
        "        \n",
        "        self.layer_10 = nn.ConvTranspose2d(64, 3, 4, padding= 1, stride= 2)\n",
        "        #Output shape is 256 X 256\n",
        "        \n",
        "        self._initialize_weights()\n",
        "    \n",
        "    def forward(self, x):\n",
        "        \n",
        "        x = self.relu(self.layer_1_bn(self.layer_1(x)))\n",
        "        store_1 = x\n",
        "        \n",
        "        x = self.relu(self.layer_2_bn(self.layer_2(x)))\n",
        "        store_2 = x\n",
        "        \n",
        "        x = self.relu(self.layer_3_bn(self.layer_3(x)))\n",
        "        store_3 = x\n",
        "        \n",
        "        x = self.relu(self.layer_4_bn(self.layer_4(x)))\n",
        "        store_4 = x\n",
        "        \n",
        "        x = self.relu(self.layer_5_bn(self.layer_5(x)))\n",
        "        \n",
        "        x = self.relu(self.layer_6_bn(self.layer_6(x)))\n",
        "        x += store_4\n",
        "        \n",
        "        x = self.relu(self.layer_7_bn(self.layer_7(x)))\n",
        "        x += store_3\n",
        "        \n",
        "        x = self.relu(self.layer_8_bn(self.layer_8(x)))\n",
        "        x += store_2\n",
        "        \n",
        "        x = self.relu(self.layer_9_bn(self.layer_9(x)))\n",
        "        x += store_1\n",
        "        \n",
        "        x = self.tanh(self.layer_10(x))\n",
        "        \n",
        "        return x\n",
        "    \n",
        "    def _initialize_weights(self):\n",
        "        for m in self.modules():\n",
        "            if isinstance(m, nn.Conv2d) or isinstance(m, nn.ConvTranspose2d) or isinstance(m, nn.BatchNorm2d):\n",
        "                nn.init.normal_(m.weight.data, std= 0.02)\n",
        "                nn.init.constant_(m.bias.data,0)"
      ],
      "execution_count": 0,
      "outputs": []
    },
    {
      "cell_type": "markdown",
      "metadata": {
        "id": "Z6fn56F7RoDI",
        "colab_type": "text"
      },
      "source": [
        "# Let us now define our Training class"
      ]
    },
    {
      "cell_type": "code",
      "metadata": {
        "colab_type": "code",
        "id": "Co-DiKLMRPby",
        "colab": {}
      },
      "source": [
        "class Model:\n",
        "    def __init__(self, base_path = '', epochs = 10, learning_rate = 0.0002, image_size = 224, leaky_relu = 0.2, betas = (0.5,0.999), lamda = 100, image_format = 'png'):\n",
        "        self.image_size = image_size\n",
        "        self.leaky_relu_threshold = leaky_relu\n",
        "        \n",
        "        self.epochs = epochs\n",
        "        self.lr = learning_rate\n",
        "        self.betas = betas\n",
        "        self.lamda = lamda\n",
        "        self.base_path = base_path\n",
        "        self.image_format = image_format\n",
        "        self.count = 1\n",
        "        \n",
        "        self.gen = None\n",
        "        self.dis = None\n",
        "        self.gen_optim = None\n",
        "        self.dis_optim = None\n",
        "        self.model_type = None\n",
        "\n",
        "        self.device = self.get_device()\n",
        "        self.create_folder_structure()\n",
        "    \n",
        "    def get_device(self):\n",
        "        device = torch.device('cuda' if torch.cuda.is_available() else 'cpu')\n",
        "        print('Using device:', device)\n",
        "        print(torch.cuda.get_device_name(0))\n",
        "        \n",
        "        if device.type == 'cuda':\n",
        "            print('Memory Usage -')\n",
        "            print('Allocated:', round(torch.cuda.memory_allocated(0)/1024**3,1), 'GB')\n",
        "            print('Cached:   ', round(torch.cuda.memory_cached(0)/1024**3,1), 'GB')\n",
        "            return device\n",
        "        else:\n",
        "            return None\n",
        "\n",
        "    def create_folder_structure(self):\n",
        "        checkpoint_folder = self.base_path + '/checkpoints'\n",
        "        loss_folder = self.base_path + '/Loss_Checkpoints'\n",
        "        training_folder = self.base_path + '/Training Images'\n",
        "        test_folder = self.base_path + '/Test Images'\n",
        "        if not os.path.exists(checkpoint_folder):\n",
        "            os.makedirs(checkpoint_folder)\n",
        "        if not os.path.exists(loss_folder):\n",
        "            os.makedirs(loss_folder)\n",
        "        if not os.path.exists(training_folder):\n",
        "            os.makedirs(training_folder)\n",
        "        if not os.path.exists(test_folder):\n",
        "            os.makedirs(test_folder)\n",
        "    \n",
        "    def initialize_model(self, model_type = 'unet'):\n",
        "        \n",
        "        all_models = ['unet', 'resnet']\n",
        "        if(model_type not in all_models):\n",
        "            raise Exception('This model type is not available!');\n",
        "\n",
        "        if(model_type == 'unet'):\n",
        "            self.gen = Generator_Unet(image_size= self.image_size)\n",
        "            self.dis = Discriminator(image_size= self.image_size, leaky_relu= self.leaky_relu_threshold)\n",
        "        elif(model_type == 'resnet'):\n",
        "            self.gen = Generator_RESNET()\n",
        "            self.dis = Discriminator(image_size= self.image_size, leaky_relu= self.leaky_relu_threshold)\n",
        "\n",
        "        if(self.device != None):\n",
        "            self.gen.cuda()\n",
        "            self.dis.cuda()    \n",
        "            \n",
        "        self.gen_optim = optim.Adam(self.gen.parameters(), lr= self.lr, betas= self.betas)\n",
        "        self.dis_optim = optim.Adam(self.dis.parameters(), lr= self.lr, betas= self.betas)\n",
        "        \n",
        "        self.model_type = model_type\n",
        "        print('Model Initialized !')\n",
        "\n",
        "    def train_model(self, trainloader, average_loss, eval = (False,None, None), save_model = (False, 25), display_test_image = (False, None, 25), change_lr = (False, 30)):\n",
        "        \n",
        "        mean_loss = nn.BCELoss()\n",
        "        l1_loss = nn.L1Loss()\n",
        "        \n",
        "        self.gen.train()\n",
        "        self.dis.train()\n",
        "        \n",
        "        iterations = 1\n",
        "        batches = len(trainloader)\n",
        "        print('Total number of batches in an epoch are : {}'.format(batches))\n",
        "\n",
        "        sample_img_test = None\n",
        "        if display_test_image[0]:\n",
        "            sample_img_test, rgb_test_images = next(iter(display_test_image[1]))\n",
        "            save_image((rgb_test_images[0].detach().cpu()+1)/2, '{}/Training Images/real_img.{}'.format(self.base_path, self.image_format))\n",
        "            if self.device != None:\n",
        "                sample_img_test = sample_img_test.cuda()        \n",
        "\n",
        "        for i in range(self.epochs):\n",
        "            \n",
        "            if(eval[0] and (i % eval[2] == 0)):\n",
        "                self.evaluate_L1_loss_dataset(eval[1], train = False)\n",
        "                self.gen.train()\n",
        "\n",
        "            running_gen_loss = 0\n",
        "            running_dis_loss = 0\n",
        "            \n",
        "            if(change_lr[0] and (i+2)%change_lr[1] == 0):\n",
        "                self.change_params(learning_rate = self.lr * 0.8)\n",
        "\n",
        "            for gray_img, real_img in trainloader:\n",
        "                \n",
        "                batch_size = len(gray_img)\n",
        "                zero_label = torch.zeros(batch_size)\n",
        "                one_label = torch.ones(batch_size)\n",
        "  \n",
        "                if self.device != None:\n",
        "                    gray_img = gray_img.cuda()\n",
        "                    real_img = real_img.cuda()\n",
        "                    zero_label = zero_label.cuda()\n",
        "                    one_label = one_label.cuda()\n",
        "                    \n",
        "                #Discriminator loss\n",
        "                self.dis_optim.zero_grad()\n",
        "                fake_img = self.gen(gray_img)\n",
        "                \n",
        "                dis_real_loss = mean_loss(self.dis(real_img), one_label)\n",
        "                dis_fake_loss = mean_loss(self.dis(fake_img), zero_label)\n",
        "                    \n",
        "                total_dis_loss = dis_fake_loss + dis_real_loss\n",
        "                total_dis_loss.backward()\n",
        "                self.dis_optim.step()\n",
        "                    \n",
        "                #Generator loss\n",
        "                self.gen_optim.zero_grad()\n",
        "                \n",
        "                fake_img = self.gen(gray_img)\n",
        "                gen_adv_loss = mean_loss(self.dis(fake_img),one_label)\n",
        "                gen_l1_loss = l1_loss(fake_img.view(batch_size, -1), real_img.view(batch_size, -1))\n",
        "            \n",
        "                total_gen_loss = gen_adv_loss + self.lamda*gen_l1_loss\n",
        "                total_gen_loss.backward()\n",
        "                self.gen_optim.step()\n",
        "                    \n",
        "                running_dis_loss += total_dis_loss.item()\n",
        "                running_gen_loss += total_gen_loss.item()                                \n",
        "                \n",
        "                if(display_test_image[0] and iterations % display_test_image[2] == 0):\n",
        "                    self.gen.eval()\n",
        "                    out_result = self.gen(sample_img_test)\n",
        "                    out_result = out_result.detach().cpu()\n",
        "                    out_result = (out_result[0] + 1)/2\n",
        "                    save_image(out_result,'{}/Training Images/iteration_{}.{}'.format(self.base_path, iterations, self.image_format))\n",
        "                    self.gen.train()\n",
        "                \n",
        "                \n",
        "                if(save_model[0] and iterations % save_model[1] == 0):\n",
        "                    self.save_checkpoint('checkpoint_iter_{}'.format(iterations), self.model_type)\n",
        "                    average_loss.save('checkpoint_avg_loss')\n",
        "                \n",
        "                iterations += 1\n",
        "            \n",
        "            running_dis_loss /= (batches*1.0)\n",
        "            running_gen_loss /= (batches*1.0)\n",
        "            print('Epoch : {}, Generator Loss : {} and Discriminator Loss : {}'.format(i+1, running_gen_loss, running_dis_loss))\n",
        "            save_tuple = ([running_gen_loss], [running_dis_loss])\n",
        "            average_loss.add_loss(save_tuple)\n",
        "        \n",
        "        self.save_checkpoint('checkpoint_train_final', self.model_type)\n",
        "        average_loss.save('checkpoint_avg_loss_final')\n",
        "\n",
        "\n",
        "    def evaluate_model(self, loader, save_filename, no_of_images = 1):\n",
        "        #Considering that we have batch size of 1 for test set\n",
        "        if(self.gen == None or self.dis == None):\n",
        "          raise Exception('Model has not been initialized and hence cannot be saved!');\n",
        "\n",
        "        counter_images_generated = 0\n",
        "        while(counter_images_generated < no_of_images):\n",
        "          gray, rgb = next(iter(loader))\n",
        "          \n",
        "          if(self.device != None):\n",
        "              gray = gray.cuda()\n",
        "          \n",
        "          filename = '{}/Test Images/{}_{}.{}'.format(self.base_path, save_filename, self.count, self.image_format)\n",
        "          real_filename = '{}/Test Images/{}_{}_real.{}'.format(self.base_path, save_filename, self.count, self.image_format)\n",
        "          real_gray_filename = '{}/Test Images/{}_{}_real_gray.{}'.format(self.base_path, save_filename, self.count, self.image_format)\n",
        "          self.count += 1\n",
        "          \n",
        "          self.gen.eval()\n",
        "          out = self.gen(gray)\n",
        "          out = out[0].detach().cpu()\n",
        "          out = (out+1)/2\n",
        "          save_image(out, filename)\n",
        "          \n",
        "          gray_img = gray[0].detach().cpu()\n",
        "          save_image(gray_img, real_gray_filename)\n",
        "\n",
        "          real_img = (rgb[0].detach().cpu() +1)/2\n",
        "          save_image(real_img, real_filename)\n",
        "\n",
        "          counter_images_generated +=1\n",
        "    \n",
        "    def evaluate_L1_loss_dataset(self, loader, train = False):\n",
        "\n",
        "        if(self.gen == None or self.dis == None):\n",
        "            raise Exception('Model has not been initialized and hence cannot be evaluated!')\n",
        "        \n",
        "        loss_function = nn.L1Loss()\n",
        "        self.gen.eval()\n",
        "        total_loss = 0.0;\n",
        "        iterations = 0;\n",
        "        for gray, real in loader:\n",
        "            iterations += 1\n",
        "            if(self.device != None):\n",
        "                gray = gray.cuda()\n",
        "                real = real.cuda()\n",
        "\n",
        "            gen_out = self.gen(gray)\n",
        "            iteration_loss = loss_function(gen_out, real)\n",
        "            total_loss += iteration_loss.item()\n",
        "        total_loss = total_loss / (iterations * 1.0)\n",
        "        train_test = 'test'\n",
        "        if train:\n",
        "          train_test = 'train'\n",
        "        print('Total L1 loss over {} set is : {}'.format(train_test,total_loss))\n",
        "        return total_loss;\n",
        "\n",
        "    \n",
        "    def change_params(self, epochs = None, learning_rate = None, leaky_relu = None, betas = None, lamda = None):\n",
        "        if(epochs != None):\n",
        "            self.epochs = epochs\n",
        "            print('Changed the number of epochs to {}!'.format(self.epochs))\n",
        "        if(learning_rate != None):\n",
        "            self.lr = learning_rate\n",
        "            print('Changed the learning rate to {}!'.format(self.lr))\n",
        "        if(leaky_relu != None):\n",
        "            self.leaky_relu_threshold = leaky_relu\n",
        "            print('Changed the threshold for leaky relu to {}!'.format(self.leaky_relu_threshold))\n",
        "        if(betas != None):\n",
        "            self.betas = betas\n",
        "            print('Changed the betas for Adams Optimizer!')\n",
        "        if(betas != None or learning_rate != None):\n",
        "            self.gen_optim = optim.Adam(self.gen.parameters(), lr= self.lr, betas= self.betas)\n",
        "            self.dis_optim = optim.Adam(self.dis.parameters(), lr= self.lr, betas= self.betas)\n",
        "            \n",
        "        if(lamda != None):\n",
        "            self.lamda = lamda\n",
        "            print('Lamda value has been changed!')\n",
        "    \n",
        "    def save_checkpoint(self, filename, model_type = 'unet'):\n",
        "        if(self.gen == None or self.dis == None):\n",
        "            raise Exception('The model has not been initialized and hence cannot be saved !')\n",
        "        \n",
        "        filename = '{}/checkpoints/{}.pth'.format(self.base_path, filename)\n",
        "        save_dict = {'model_type': model_type, 'dis_dict':self.dis.state_dict(), 'gen_dict': self.gen.state_dict(), 'lr': self.lr,\n",
        "                    'epochs' : self.epochs, 'betas': self.betas, 'image_size':self.image_size, \n",
        "                     'leaky_relu_thresh' : self.leaky_relu_threshold, 'lamda' : self.lamda, 'base_path': self.base_path, \n",
        "                     'count' : self.count, 'image_format': self.image_format, 'device': self.device}\n",
        "        \n",
        "        torch.save(save_dict, filename)\n",
        "        \n",
        "        print('The model checkpoint has been saved !')\n",
        "    \n",
        "    def load_checkpoint(self, filename):\n",
        "        filename = '{}/checkpoints/{}.pth'.format(self.base_path, filename)\n",
        "        if(not pathlib.Path(filename).exists()):\n",
        "            raise Exception('This checkpoint does not exist!')\n",
        "        \n",
        "        self.gen = None\n",
        "        self.dis = None\n",
        "        \n",
        "        save_dict = torch.load(filename)\n",
        "        \n",
        "        self.betas = save_dict['betas']\n",
        "        self.image_size = save_dict['image_size']\n",
        "        self.epochs = save_dict['epochs']\n",
        "        self.leaky_relu_threshold = save_dict['leaky_relu_thresh']\n",
        "        self.lamda = save_dict['lamda']\n",
        "        self.lr = save_dict['lr']\n",
        "        self.base_path = save_dict['base_path']\n",
        "        self.count = save_dict['count']\n",
        "        self.image_format = save_dict['image_format']\n",
        "        self.device = save_dict['device']\n",
        "\n",
        "        self.initialize_model(model_type= save_dict['model_type'])\n",
        "        \n",
        "        self.gen.load_state_dict(save_dict['gen_dict'])\n",
        "        self.dis.load_state_dict(save_dict['dis_dict'])\n",
        "        \n",
        "        print('The model checkpoint has been restored!')"
      ],
      "execution_count": 0,
      "outputs": []
    },
    {
      "cell_type": "code",
      "metadata": {
        "colab_type": "code",
        "id": "sx9eJoNrRPb4",
        "outputId": "c0472f61-1970-4c99-ffa8-37f6f3405067",
        "colab": {
          "base_uri": "https://localhost:8080/",
          "height": 101
        }
      },
      "source": [
        "model = None\n",
        "torch.cuda.empty_cache()\n",
        "gc.collect()\n",
        "model = Model(base_path = global_path, image_size= image_size, image_format = image_format)\n",
        "average_loss = AverageLoss(global_path)"
      ],
      "execution_count": 14,
      "outputs": [
        {
          "output_type": "stream",
          "text": [
            "Using device: cuda\n",
            "Tesla P100-PCIE-16GB\n",
            "Memory Usage -\n",
            "Allocated: 0.0 GB\n",
            "Cached:    0.0 GB\n"
          ],
          "name": "stdout"
        }
      ]
    },
    {
      "cell_type": "code",
      "metadata": {
        "id": "0CeeNuTi8myg",
        "colab_type": "code",
        "colab": {
          "base_uri": "https://localhost:8080/",
          "height": 67
        },
        "outputId": "f7295f78-c1f9-4e59-bc9a-f84b10618476"
      },
      "source": [
        "#model.load_checkpoint('checkpoint_train_final_200')\n",
        "#average_loss.load('checkpoint_avg_loss_final',1)"
      ],
      "execution_count": 15,
      "outputs": [
        {
          "output_type": "stream",
          "text": [
            "Model Initialized !\n",
            "The model checkpoint has been restored!\n",
            "Checkpoint has been restored!\n"
          ],
          "name": "stdout"
        }
      ]
    },
    {
      "cell_type": "code",
      "metadata": {
        "colab_type": "code",
        "id": "HdvXiNDyRPb7",
        "outputId": "8d34db61-9a08-4303-949a-fd85cfa55e67",
        "colab": {
          "base_uri": "https://localhost:8080/",
          "height": 34
        }
      },
      "source": [
        "model.initialize_model(model_type= 'unet')"
      ],
      "execution_count": 22,
      "outputs": [
        {
          "output_type": "stream",
          "text": [
            "Model Initialized !\n"
          ],
          "name": "stdout"
        }
      ]
    },
    {
      "cell_type": "code",
      "metadata": {
        "colab_type": "code",
        "id": "7MyOeZBI4BWw",
        "outputId": "dbb58169-99cf-4d56-8817-5f6e5a103e3f",
        "colab": {
          "base_uri": "https://localhost:8080/",
          "height": 67
        }
      },
      "source": [
        "model.change_params(epochs=100)\n",
        "model.change_params(learning_rate = 0.0001)\n",
        "model.change_params(lamda = lamda)"
      ],
      "execution_count": 16,
      "outputs": [
        {
          "output_type": "stream",
          "text": [
            "Changed the number of epochs to 100!\n",
            "Changed the learning rate to 0.0001!\n",
            "Lamda value has been changed!\n"
          ],
          "name": "stdout"
        }
      ]
    },
    {
      "cell_type": "code",
      "metadata": {
        "id": "JhYiyXcXZL8d",
        "colab_type": "code",
        "outputId": "23a430c7-f300-4381-8aec-64e56882f88e",
        "colab": {
          "base_uri": "https://localhost:8080/",
          "height": 1000
        }
      },
      "source": [
        "model.train_model(trainloader, average_loss, save_model= (False, 10*batches_iter), \n",
        "              display_test_image=(True, validloader, batches_iter), change_lr = (True, 20),\n",
        "              eval = (True, validloader, 25))\n",
        "average_loss.plot()\n",
        "model.evaluate_model(validloader, 'test', 5)\n",
        "model.evaluate_model(trainloader, 'train', 5)\n",
        "model.evaluate_L1_loss_dataset(trainloader, train = True)\n",
        "model.evaluate_L1_loss_dataset(validloader, train = False)"
      ],
      "execution_count": 17,
      "outputs": [
        {
          "output_type": "stream",
          "text": [
            "Total number of batches in an epoch are : 256\n",
            "Total L1 loss over test set is : 0.08349434905103408\n"
          ],
          "name": "stdout"
        },
        {
          "output_type": "stream",
          "text": [
            "/usr/local/lib/python3.6/dist-packages/torch/nn/modules/loss.py:498: UserWarning: Using a target size (torch.Size([5])) that is different to the input size (torch.Size([5, 1, 1, 1])) is deprecated. Please ensure they have the same size.\n",
            "  return F.binary_cross_entropy(input, target, weight=self.weight, reduction=self.reduction)\n",
            "/usr/local/lib/python3.6/dist-packages/torch/nn/modules/loss.py:498: UserWarning: Using a target size (torch.Size([1])) that is different to the input size (torch.Size([1, 1, 1, 1])) is deprecated. Please ensure they have the same size.\n",
            "  return F.binary_cross_entropy(input, target, weight=self.weight, reduction=self.reduction)\n"
          ],
          "name": "stderr"
        },
        {
          "output_type": "stream",
          "text": [
            "Epoch : 1, Generator Loss : 12.055510582402349 and Discriminator Loss : 0.33689023972692667\n",
            "Epoch : 2, Generator Loss : 12.529317006468773 and Discriminator Loss : 0.262399925130012\n",
            "Epoch : 3, Generator Loss : 13.267147030681372 and Discriminator Loss : 0.10273210327250126\n",
            "Epoch : 4, Generator Loss : 12.982634199783206 and Discriminator Loss : 0.2946889365402967\n",
            "Epoch : 5, Generator Loss : 12.263974407687783 and Discriminator Loss : 0.5297885933250654\n",
            "Epoch : 6, Generator Loss : 12.710532577708364 and Discriminator Loss : 0.13750528252239747\n",
            "Epoch : 7, Generator Loss : 12.855987153947353 and Discriminator Loss : 0.25111442044726573\n",
            "Epoch : 8, Generator Loss : 12.625795189291239 and Discriminator Loss : 0.38612057938735234\n",
            "Epoch : 9, Generator Loss : 12.514300998300314 and Discriminator Loss : 0.17207933933968889\n",
            "Epoch : 10, Generator Loss : 13.472855180501938 and Discriminator Loss : 0.09379604243167705\n",
            "Epoch : 11, Generator Loss : 12.996460411697626 and Discriminator Loss : 0.3298905522606219\n",
            "Epoch : 12, Generator Loss : 13.358399625867605 and Discriminator Loss : 0.07654826335965481\n",
            "Epoch : 13, Generator Loss : 13.207922246307135 and Discriminator Loss : 0.2980484987840555\n",
            "Epoch : 14, Generator Loss : 12.215963637456298 and Discriminator Loss : 0.41689274836244294\n",
            "Epoch : 15, Generator Loss : 12.739456579089165 and Discriminator Loss : 0.2581649419353198\n",
            "Epoch : 16, Generator Loss : 13.006050147116184 and Discriminator Loss : 0.12728759053425165\n",
            "Epoch : 17, Generator Loss : 13.516459092497826 and Discriminator Loss : 0.05454633106592155\n",
            "Epoch : 18, Generator Loss : 13.590487830340862 and Discriminator Loss : 0.08443998853499579\n",
            "Changed the learning rate to 8e-05!\n",
            "Epoch : 19, Generator Loss : 13.098182385787368 and Discriminator Loss : 0.10724594874682225\n",
            "Epoch : 20, Generator Loss : 12.585879474878311 and Discriminator Loss : 0.23633276005693915\n",
            "Epoch : 21, Generator Loss : 11.764559891074896 and Discriminator Loss : 0.3771141287852515\n",
            "Epoch : 22, Generator Loss : 12.12968860194087 and Discriminator Loss : 0.20842938225177932\n",
            "Epoch : 23, Generator Loss : 12.303736122325063 and Discriminator Loss : 0.18322277800257325\n",
            "Epoch : 24, Generator Loss : 12.53608238697052 and Discriminator Loss : 0.10161428099672776\n",
            "Epoch : 25, Generator Loss : 12.571848709136248 and Discriminator Loss : 0.08744995282540913\n",
            "Total L1 loss over test set is : 0.08813277938170358\n",
            "Epoch : 26, Generator Loss : 12.306905880570412 and Discriminator Loss : 0.35696092566831794\n",
            "Epoch : 27, Generator Loss : 12.11121566221118 and Discriminator Loss : 0.25474331712393905\n",
            "Epoch : 28, Generator Loss : 12.028344122692943 and Discriminator Loss : 0.2534449066843081\n",
            "Epoch : 29, Generator Loss : 12.841408461332321 and Discriminator Loss : 0.11118283483847868\n",
            "Epoch : 30, Generator Loss : 13.210351722314954 and Discriminator Loss : 0.14214470694605552\n",
            "Epoch : 31, Generator Loss : 12.239463241770864 and Discriminator Loss : 0.2544411817289074\n",
            "Epoch : 32, Generator Loss : 12.27890040539205 and Discriminator Loss : 0.16136952790475334\n",
            "Epoch : 33, Generator Loss : 12.83855253085494 and Discriminator Loss : 0.06599138984893216\n",
            "Epoch : 34, Generator Loss : 12.586961207911372 and Discriminator Loss : 0.2104233465179277\n",
            "Epoch : 35, Generator Loss : 12.852150674909353 and Discriminator Loss : 0.10348439328754466\n",
            "Epoch : 36, Generator Loss : 12.556005321443081 and Discriminator Loss : 0.22565258099803032\n",
            "Epoch : 37, Generator Loss : 12.547989858314395 and Discriminator Loss : 0.2761530774578205\n",
            "Epoch : 38, Generator Loss : 12.472431648522615 and Discriminator Loss : 0.18506839076144388\n",
            "Changed the learning rate to 6.400000000000001e-05!\n",
            "Epoch : 39, Generator Loss : 12.321500822901726 and Discriminator Loss : 0.16393354314732278\n",
            "Epoch : 40, Generator Loss : 12.276890378445387 and Discriminator Loss : 0.14032437575042422\n",
            "Epoch : 41, Generator Loss : 12.201006067916751 and Discriminator Loss : 0.20574664290688816\n",
            "Epoch : 42, Generator Loss : 12.211806450039148 and Discriminator Loss : 0.1078887766416301\n",
            "Epoch : 43, Generator Loss : 12.301953563466668 and Discriminator Loss : 0.20597333619298297\n",
            "Epoch : 44, Generator Loss : 12.084159828722477 and Discriminator Loss : 0.13438846186181763\n",
            "Epoch : 45, Generator Loss : 11.880886398255825 and Discriminator Loss : 0.24442418571379676\n",
            "Epoch : 46, Generator Loss : 12.016947910189629 and Discriminator Loss : 0.14349047212817823\n",
            "Epoch : 47, Generator Loss : 12.232256030663848 and Discriminator Loss : 0.116818062881066\n",
            "Epoch : 48, Generator Loss : 12.350327506661415 and Discriminator Loss : 0.10570413760979136\n",
            "Epoch : 49, Generator Loss : 12.690575145184994 and Discriminator Loss : 0.055838694642261544\n",
            "Epoch : 50, Generator Loss : 12.302850725129247 and Discriminator Loss : 0.2370542194639711\n",
            "Total L1 loss over test set is : 0.08571632695384324\n",
            "Epoch : 51, Generator Loss : 11.941109254956245 and Discriminator Loss : 0.18518132424651412\n",
            "Epoch : 52, Generator Loss : 11.74386409111321 and Discriminator Loss : 0.23362883805566526\n",
            "Epoch : 53, Generator Loss : 12.145677486434579 and Discriminator Loss : 0.13031787973159226\n",
            "Epoch : 54, Generator Loss : 12.4024927765131 and Discriminator Loss : 0.08807741531563806\n",
            "Epoch : 55, Generator Loss : 12.756923366338015 and Discriminator Loss : 0.06043681463734174\n",
            "Epoch : 56, Generator Loss : 12.513659348711371 and Discriminator Loss : 0.2558394210827828\n",
            "Epoch : 57, Generator Loss : 11.716719523072243 and Discriminator Loss : 0.2350583955703769\n",
            "Epoch : 58, Generator Loss : 12.078112190589309 and Discriminator Loss : 0.13202344152887235\n",
            "Changed the learning rate to 5.120000000000001e-05!\n",
            "Epoch : 59, Generator Loss : 12.04157342761755 and Discriminator Loss : 0.15074184259356116\n",
            "Epoch : 60, Generator Loss : 11.587516568601131 and Discriminator Loss : 0.19192929946439108\n",
            "Epoch : 61, Generator Loss : 12.031508013606071 and Discriminator Loss : 0.09416382833205716\n",
            "Epoch : 62, Generator Loss : 12.068052435293794 and Discriminator Loss : 0.1085314882457169\n",
            "Epoch : 63, Generator Loss : 11.926516881212592 and Discriminator Loss : 0.10463934284007337\n",
            "Epoch : 64, Generator Loss : 12.242704955860972 and Discriminator Loss : 0.10862301648830908\n",
            "Epoch : 65, Generator Loss : 12.128374353051186 and Discriminator Loss : 0.1482554549438646\n",
            "Epoch : 66, Generator Loss : 11.75626882724464 and Discriminator Loss : 0.17345918479077227\n",
            "Epoch : 67, Generator Loss : 12.042047278955579 and Discriminator Loss : 0.12579140563775582\n",
            "Epoch : 68, Generator Loss : 12.198395496234298 and Discriminator Loss : 0.08645812421400478\n",
            "Epoch : 69, Generator Loss : 11.416174640879035 and Discriminator Loss : 0.2654282636685821\n",
            "Epoch : 70, Generator Loss : 11.848720662295818 and Discriminator Loss : 0.11180291142227361\n",
            "Epoch : 71, Generator Loss : 12.243317894637585 and Discriminator Loss : 0.06859556388371857\n",
            "Epoch : 72, Generator Loss : 12.388177175074816 and Discriminator Loss : 0.07174194630624697\n",
            "Epoch : 73, Generator Loss : 11.825540589168668 and Discriminator Loss : 0.22332757182084606\n",
            "Epoch : 74, Generator Loss : 12.009758483618498 and Discriminator Loss : 0.15161319668550277\n",
            "Epoch : 75, Generator Loss : 11.693616976961493 and Discriminator Loss : 0.2160062160983216\n",
            "Total L1 loss over test set is : 0.08208558055921458\n",
            "Epoch : 76, Generator Loss : 12.08607168495655 and Discriminator Loss : 0.11364185224738321\n",
            "Epoch : 77, Generator Loss : 11.701541896909475 and Discriminator Loss : 0.19676270581294375\n",
            "Epoch : 78, Generator Loss : 12.189103314653039 and Discriminator Loss : 0.06301997775426571\n",
            "Changed the learning rate to 4.0960000000000014e-05!\n",
            "Epoch : 79, Generator Loss : 12.072120279073715 and Discriminator Loss : 0.09965895316963724\n",
            "Epoch : 80, Generator Loss : 11.848628791049123 and Discriminator Loss : 0.11843678714103589\n",
            "Epoch : 81, Generator Loss : 11.789629861712456 and Discriminator Loss : 0.1183374289648782\n",
            "Epoch : 82, Generator Loss : 11.881655275821686 and Discriminator Loss : 0.09150973309624533\n",
            "Epoch : 83, Generator Loss : 11.990675333887339 and Discriminator Loss : 0.10460025414317897\n",
            "Epoch : 84, Generator Loss : 12.065843654796481 and Discriminator Loss : 0.12268968137141201\n",
            "Epoch : 85, Generator Loss : 11.816207941621542 and Discriminator Loss : 0.12332179750228534\n",
            "Epoch : 86, Generator Loss : 11.70690000616014 and Discriminator Loss : 0.12720691970298503\n",
            "Epoch : 87, Generator Loss : 11.933000722900033 and Discriminator Loss : 0.10004942972773279\n",
            "Epoch : 88, Generator Loss : 11.951464258134365 and Discriminator Loss : 0.13621753840834572\n",
            "Epoch : 89, Generator Loss : 12.060544271022081 and Discriminator Loss : 0.1038213316146539\n",
            "Epoch : 90, Generator Loss : 12.120029263198376 and Discriminator Loss : 0.08087804092701845\n",
            "Epoch : 91, Generator Loss : 11.607893377542496 and Discriminator Loss : 0.2087785482781328\n",
            "Epoch : 92, Generator Loss : 11.502675184980035 and Discriminator Loss : 0.1946749876042304\n",
            "Epoch : 93, Generator Loss : 11.704072501510382 and Discriminator Loss : 0.13069505322891928\n",
            "Epoch : 94, Generator Loss : 11.86826154589653 and Discriminator Loss : 0.1013442631046928\n",
            "Epoch : 95, Generator Loss : 11.76838374324143 and Discriminator Loss : 0.10976712037336256\n",
            "Epoch : 96, Generator Loss : 12.439721714705229 and Discriminator Loss : 0.07969099599904439\n",
            "Epoch : 97, Generator Loss : 11.580040277913213 and Discriminator Loss : 0.17356882196872903\n",
            "Epoch : 98, Generator Loss : 12.024449806660414 and Discriminator Loss : 0.10225347046252864\n",
            "Changed the learning rate to 3.2768000000000016e-05!\n",
            "Epoch : 99, Generator Loss : 11.881263565272093 and Discriminator Loss : 0.09996413037515595\n",
            "Epoch : 100, Generator Loss : 11.61664012633264 and Discriminator Loss : 0.12325841437632334\n",
            "The model checkpoint has been saved !\n",
            "Losses have been saved!\n"
          ],
          "name": "stdout"
        },
        {
          "output_type": "display_data",
          "data": {
            "image/png": "[encoded data removed]",
            "text/plain": [
              "<Figure size 432x288 with 1 Axes>"
            ]
          },
          "metadata": {
            "tags": [],
            "needs_background": "light"
          }
        },
        {
          "output_type": "stream",
          "text": [
            "Total L1 loss over train set is : 0.03644617662939709\n",
            "Total L1 loss over test set is : 0.08325449700350873\n"
          ],
          "name": "stdout"
        },
        {
          "output_type": "execute_result",
          "data": {
            "text/plain": [
              "0.08325449700350873"
            ]
          },
          "metadata": {
            "tags": []
          },
          "execution_count": 17
        }
      ]
    },
    {
      "cell_type": "code",
      "metadata": {
        "colab_type": "code",
        "id": "eKUmQgFIoEKE",
        "colab": {}
      },
      "source": [
        "#model.evaluate_L1_loss_dataset(trainloader, train = True)\n",
        "#model.evaluate_L1_loss_dataset(validloader, train = False)"
      ],
      "execution_count": 0,
      "outputs": []
    },
    {
      "cell_type": "code",
      "metadata": {
        "id": "JuzOBAdi81PH",
        "colab_type": "code",
        "colab": {}
      },
      "source": [
        "#Unet_200_b5"
      ],
      "execution_count": 0,
      "outputs": []
    }
  ]
}